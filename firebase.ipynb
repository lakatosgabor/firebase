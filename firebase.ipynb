{
  "nbformat": 4,
  "nbformat_minor": 0,
  "metadata": {
    "colab": {
      "provenance": [],
      "mount_file_id": "1w08rFq0Uc-u6kzBfNtbaN-4sAYtL4mw4",
      "authorship_tag": "ABX9TyP7Kdghl/cqey7aRv93PytM",
      "include_colab_link": true
    },
    "kernelspec": {
      "name": "python3",
      "display_name": "Python 3"
    },
    "language_info": {
      "name": "python"
    }
  },
  "cells": [
    {
      "cell_type": "markdown",
      "metadata": {
        "id": "view-in-github",
        "colab_type": "text"
      },
      "source": [
        "<a href=\"https://colab.research.google.com/github/lakatosgabor/firebase/blob/main/firebase.ipynb\" target=\"_parent\"><img src=\"https://colab.research.google.com/assets/colab-badge.svg\" alt=\"Open In Colab\"/></a>"
      ]
    },
    {
      "cell_type": "code",
      "execution_count": null,
      "metadata": {
        "id": "QS_iLs4izrLG"
      },
      "outputs": [],
      "source": [
        "!pip install firebase-admin requests"
      ]
    },
    {
      "cell_type": "code",
      "source": [
        "import firebase_admin\n",
        "from firebase_admin import credentials\n",
        "from firebase_admin import firestore\n",
        "\n",
        "# Use a service account.\n",
        "cred = credentials.Certificate('/content/drive/MyDrive/Pannon/Önálló/textrec-25d7c-firebase-adminsdk-pnqcz-196a14f14e.json')\n",
        "\n",
        "app = firebase_admin.initialize_app(cred)\n",
        "\n",
        "db = firestore.client()"
      ],
      "metadata": {
        "id": "7CfkUBgS7r1Z"
      },
      "execution_count": null,
      "outputs": []
    },
    {
      "cell_type": "code",
      "source": [
        "doc_ref = db.collection(\"user\").document(\"Tzq5UY7zKHGlrUMuFzpB\")\n",
        "\n",
        "doc = doc_ref.get()\n",
        "if doc.exists:\n",
        "    print(f\"Document data: {doc.to_dict()}\")\n",
        "else:\n",
        "    print(\"No such document!\")"
      ],
      "metadata": {
        "colab": {
          "base_uri": "https://localhost:8080/"
        },
        "id": "Ql0ONMkS8Z24",
        "outputId": "8c7db127-9a03-48d8-f594-81dcadbfd008"
      },
      "execution_count": null,
      "outputs": [
        {
          "output_type": "stream",
          "name": "stdout",
          "text": [
            "Document data: {'text': 'Hello'}\n"
          ]
        }
      ]
    }
  ]
}